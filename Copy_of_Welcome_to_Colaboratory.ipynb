{
  "cells": [
    {
      "cell_type": "markdown",
      "metadata": {
        "id": "view-in-github",
        "colab_type": "text"
      },
      "source": [
        "<a href=\"https://colab.research.google.com/github/zakirdz/Dilnoza/blob/main/Copy_of_Welcome_to_Colaboratory.ipynb\" target=\"_parent\"><img src=\"https://colab.research.google.com/assets/colab-badge.svg\" alt=\"Open In Colab\"/></a>"
      ]
    },
    {
      "cell_type": "code",
      "source": [
        "5-3 #this is my first code\n"
      ],
      "metadata": {
        "id": "Yjcq1xA4lTwT",
        "outputId": "cf885882-99a6-4cde-d2d5-6eb2f0626118",
        "colab": {
          "base_uri": "https://localhost:8080/"
        }
      },
      "execution_count": null,
      "outputs": [
        {
          "output_type": "execute_result",
          "data": {
            "text/plain": [
              "2"
            ]
          },
          "metadata": {},
          "execution_count": 8
        }
      ]
    },
    {
      "cell_type": "code",
      "source": [
        "print (\"Hello world!\")\n",
        "\n",
        "5-3 #this is my first code\n"
      ],
      "metadata": {
        "id": "cXHNQuSzkePI",
        "outputId": "eb4d7569-3c74-470a-d92e-1149205332f2",
        "colab": {
          "base_uri": "https://localhost:8080/"
        }
      },
      "execution_count": null,
      "outputs": [
        {
          "output_type": "stream",
          "name": "stdout",
          "text": [
            "Hello world!\n"
          ]
        },
        {
          "output_type": "execute_result",
          "data": {
            "text/plain": [
              "2"
            ]
          },
          "metadata": {},
          "execution_count": 7
        }
      ]
    },
    {
      "cell_type": "code",
      "source": [
        "bool \n",
        "float\n"
      ],
      "metadata": {
        "id": "DQ4bjC3Ul6Yq"
      },
      "execution_count": null,
      "outputs": []
    },
    {
      "cell_type": "code",
      "source": [
        "print (\"hello\")"
      ],
      "metadata": {
        "id": "9UaNu7_ondN2",
        "outputId": "404c0337-3e34-4527-fc6e-c4f6cf393359",
        "colab": {
          "base_uri": "https://localhost:8080/"
        }
      },
      "execution_count": null,
      "outputs": [
        {
          "output_type": "stream",
          "name": "stdout",
          "text": [
            "hello\n"
          ]
        }
      ]
    },
    {
      "cell_type": "code",
      "source": [
        "type ({\"apple\", \"mango\"})"
      ],
      "metadata": {
        "id": "XXK8argIn_7H",
        "outputId": "b3ebd493-b0da-4f95-d44b-0b92c1db2d5f",
        "colab": {
          "base_uri": "https://localhost:8080/"
        }
      },
      "execution_count": null,
      "outputs": [
        {
          "output_type": "execute_result",
          "data": {
            "text/plain": [
              "set"
            ]
          },
          "metadata": {},
          "execution_count": 14
        }
      ]
    },
    {
      "cell_type": "code",
      "source": [
        "country_name = \"United Kingdom\"\n",
        "print (country_name)"
      ],
      "metadata": {
        "id": "yrrq1fYCoMBg",
        "outputId": "e32f7517-a96a-4517-aa1c-36368d862e67",
        "colab": {
          "base_uri": "https://localhost:8080/"
        }
      },
      "execution_count": null,
      "outputs": [
        {
          "output_type": "stream",
          "name": "stdout",
          "text": [
            "United Kingdom\n"
          ]
        }
      ]
    },
    {
      "cell_type": "code",
      "source": [
        "mystring=\"This is a string\"\n",
        "len(mystring)"
      ],
      "metadata": {
        "id": "ohs6jmfboiYQ",
        "outputId": "4e82c34d-4396-40ca-f485-461484486233",
        "colab": {
          "base_uri": "https://localhost:8080/"
        }
      },
      "execution_count": null,
      "outputs": [
        {
          "output_type": "execute_result",
          "data": {
            "text/plain": [
              "16"
            ]
          },
          "metadata": {},
          "execution_count": 18
        }
      ]
    },
    {
      "cell_type": "code",
      "source": [
        "#convert number (integar) into string\n",
        "\n",
        "num=423\n",
        "type (num)"
      ],
      "metadata": {
        "id": "i8n-wrzLpHGc",
        "outputId": "02ec5efc-4cb7-4379-9124-af5e1429581a",
        "colab": {
          "base_uri": "https://localhost:8080/"
        }
      },
      "execution_count": null,
      "outputs": [
        {
          "output_type": "execute_result",
          "data": {
            "text/plain": [
              "int"
            ]
          },
          "metadata": {},
          "execution_count": 20
        }
      ]
    },
    {
      "cell_type": "code",
      "source": [
        "str (num)"
      ],
      "metadata": {
        "id": "_q9UrJ4wpW-F",
        "outputId": "14796f98-918c-45a8-f7b5-184e1eb05b9f",
        "colab": {
          "base_uri": "https://localhost:8080/",
          "height": 37
        }
      },
      "execution_count": null,
      "outputs": [
        {
          "output_type": "execute_result",
          "data": {
            "text/plain": [
              "'423'"
            ],
            "application/vnd.google.colaboratory.intrinsic+json": {
              "type": "string"
            }
          },
          "metadata": {},
          "execution_count": 21
        }
      ]
    },
    {
      "cell_type": "code",
      "source": [
        "num1 = 4.356\n",
        "type(num1)"
      ],
      "metadata": {
        "id": "Mpp0UJrfpfch",
        "outputId": "fbe6fb59-5174-48d2-98fd-66a5a81095ae",
        "colab": {
          "base_uri": "https://localhost:8080/"
        }
      },
      "execution_count": null,
      "outputs": [
        {
          "output_type": "execute_result",
          "data": {
            "text/plain": [
              "float"
            ]
          },
          "metadata": {},
          "execution_count": 22
        }
      ]
    },
    {
      "cell_type": "code",
      "source": [
        "int (num1)"
      ],
      "metadata": {
        "id": "SzC4wh-hpmJ4",
        "outputId": "4e550b28-3e42-400b-a0ee-7666ed300934",
        "colab": {
          "base_uri": "https://localhost:8080/"
        }
      },
      "execution_count": null,
      "outputs": [
        {
          "output_type": "execute_result",
          "data": {
            "text/plain": [
              "4"
            ]
          },
          "metadata": {},
          "execution_count": 23
        }
      ]
    },
    {
      "cell_type": "code",
      "source": [
        "num2 = \"453\"\n",
        "type (num2)"
      ],
      "metadata": {
        "id": "b7EcuDq6prZu",
        "outputId": "ed2fa803-4505-4cd4-de6a-36e77ed1a865",
        "colab": {
          "base_uri": "https://localhost:8080/"
        }
      },
      "execution_count": null,
      "outputs": [
        {
          "output_type": "execute_result",
          "data": {
            "text/plain": [
              "str"
            ]
          },
          "metadata": {},
          "execution_count": 24
        }
      ]
    },
    {
      "cell_type": "code",
      "source": [
        "int (num2)"
      ],
      "metadata": {
        "id": "S3qyDHz1p1og",
        "outputId": "7d52b190-5c13-40f3-a597-b657fdd3af03",
        "colab": {
          "base_uri": "https://localhost:8080/"
        }
      },
      "execution_count": null,
      "outputs": [
        {
          "output_type": "execute_result",
          "data": {
            "text/plain": [
              "453"
            ]
          },
          "metadata": {},
          "execution_count": 25
        }
      ]
    },
    {
      "cell_type": "code",
      "source": [
        "num3 = \"print\"\n",
        "type (num3)"
      ],
      "metadata": {
        "id": "7oO42k-5qN1q",
        "outputId": "a6de5b56-eafa-43f3-9e7e-57811e392a61",
        "colab": {
          "base_uri": "https://localhost:8080/"
        }
      },
      "execution_count": null,
      "outputs": [
        {
          "output_type": "execute_result",
          "data": {
            "text/plain": [
              "str"
            ]
          },
          "metadata": {},
          "execution_count": 26
        }
      ]
    },
    {
      "cell_type": "markdown",
      "source": [
        "you cant change string into integar (text to number)\n"
      ],
      "metadata": {
        "id": "wFA--fauqaJ5"
      }
    },
    {
      "cell_type": "code",
      "source": [
        "#string is a text but uoi cant use back slash in string"
      ],
      "metadata": {
        "id": "w4vqwo_qqf3Z"
      },
      "execution_count": null,
      "outputs": []
    },
    {
      "cell_type": "code",
      "source": [
        "print (\"Their apparent intention was not \\\"honest\\\"\") #\\\"text or whatever we want to put quotation\\\"\n"
      ],
      "metadata": {
        "id": "x4mgKL1mqwFt",
        "outputId": "31f14d55-f6c1-413c-8f75-baac5a00d7f2",
        "colab": {
          "base_uri": "https://localhost:8080/"
        }
      },
      "execution_count": null,
      "outputs": [
        {
          "output_type": "stream",
          "name": "stdout",
          "text": [
            "Their apparent intention was not \"honest\"\n"
          ]
        }
      ]
    },
    {
      "cell_type": "code",
      "source": [
        "print (\"Their apparent\\n intention was not \\\"honest\\\"\") #use \\n for a seperate line"
      ],
      "metadata": {
        "id": "Wj6bcy9org4W",
        "outputId": "4cc3a2c2-462f-4a49-8e96-7f2333c73dcf",
        "colab": {
          "base_uri": "https://localhost:8080/"
        }
      },
      "execution_count": null,
      "outputs": [
        {
          "output_type": "stream",
          "name": "stdout",
          "text": [
            "Their apparent\n",
            " intention was not \"honest\"\n"
          ]
        }
      ]
    },
    {
      "cell_type": "code",
      "source": [
        "print (\"Their apparent \\tintention was not \\\"honest\\\"\") #use \\t to create a space\n",
        "\n"
      ],
      "metadata": {
        "id": "RKJ3i_Tervxu",
        "outputId": "48e34fc3-1ace-4a50-b89f-aaa90667ba0d",
        "colab": {
          "base_uri": "https://localhost:8080/"
        }
      },
      "execution_count": null,
      "outputs": [
        {
          "output_type": "stream",
          "name": "stdout",
          "text": [
            "Their apparent \tintention was not \"honest\"\n"
          ]
        }
      ]
    },
    {
      "cell_type": "code",
      "source": [
        "di = \"My first \\\"bootcam\\\"\"\n",
        "print (di)"
      ],
      "metadata": {
        "id": "ertD2m4Oyxb_",
        "outputId": "c04ebb59-7cff-44e5-98e3-7c4ebfd6a258",
        "colab": {
          "base_uri": "https://localhost:8080/"
        }
      },
      "execution_count": null,
      "outputs": [
        {
          "output_type": "stream",
          "name": "stdout",
          "text": [
            "My first \"bootcam\"\n"
          ]
        }
      ]
    },
    {
      "cell_type": "code",
      "source": [
        "di2 = \"this is \\n\\\"so real\\\"\\n\"\n",
        "print (di2)"
      ],
      "metadata": {
        "id": "_RElouzMy8vq",
        "outputId": "a6444df5-28dc-4c88-e3b1-252a802d600a",
        "colab": {
          "base_uri": "https://localhost:8080/"
        }
      },
      "execution_count": null,
      "outputs": [
        {
          "output_type": "stream",
          "name": "stdout",
          "text": [
            "this is \n",
            "\"so real\"\n",
            "\n"
          ]
        }
      ]
    },
    {
      "cell_type": "code",
      "source": [
        "print (\"Their apparent \\bintention was not \\\"honest\\\"\") #if i want to create back space or save space use \\b"
      ],
      "metadata": {
        "id": "Fr9QFXulr6rf",
        "outputId": "2b349cc7-388a-4c48-a030-5a34ec9faacc",
        "colab": {
          "base_uri": "https://localhost:8080/"
        }
      },
      "execution_count": null,
      "outputs": [
        {
          "output_type": "stream",
          "name": "stdout",
          "text": [
            "Their apparent \bintention was not \"honest\"\n"
          ]
        }
      ]
    },
    {
      "cell_type": "code",
      "source": [
        "#string has index. for example in the word HELLO H is index 0, and the hello contains 4 index not 5\n",
        "HELLO\n"
      ],
      "metadata": {
        "id": "V4ktYtl2sHlB"
      },
      "execution_count": null,
      "outputs": []
    },
    {
      "cell_type": "code",
      "source": [
        "my_string = \"HELLO\"\n",
        "my_string [0]\n",
        "my_string [3]\n",
        "my_string [-1]\n",
        "my_string[1:3] #if put : so it will give from and to, the last value is stopping value which wont be counted so in this case 3 is the stopping value and letter second L is not shown"
      ],
      "metadata": {
        "id": "uCf29uxVsqhE",
        "outputId": "6cd30863-592f-453d-ed92-432e7b30228e",
        "colab": {
          "base_uri": "https://localhost:8080/",
          "height": 37
        }
      },
      "execution_count": null,
      "outputs": [
        {
          "output_type": "execute_result",
          "data": {
            "text/plain": [
              "'EL'"
            ],
            "application/vnd.google.colaboratory.intrinsic+json": {
              "type": "string"
            }
          },
          "metadata": {},
          "execution_count": 37
        }
      ]
    },
    {
      "cell_type": "code",
      "source": [
        "#when we dont put the starting value it will automatically picks from value 1 (index 0) like following\n",
        "my_string[:4]"
      ],
      "metadata": {
        "id": "l9ByIVlUtffM",
        "outputId": "6889216f-14f6-4258-cc40-49dbaaf30b55",
        "colab": {
          "base_uri": "https://localhost:8080/",
          "height": 37
        }
      },
      "execution_count": null,
      "outputs": [
        {
          "output_type": "execute_result",
          "data": {
            "text/plain": [
              "'HELL'"
            ],
            "application/vnd.google.colaboratory.intrinsic+json": {
              "type": "string"
            }
          },
          "metadata": {},
          "execution_count": 38
        }
      ]
    },
    {
      "cell_type": "code",
      "source": [
        "my_string[:5]"
      ],
      "metadata": {
        "id": "Ji5r3p6CuOiK",
        "outputId": "265e85a6-e7fc-49a3-bfd8-2fc7cf1a7b39",
        "colab": {
          "base_uri": "https://localhost:8080/",
          "height": 37
        }
      },
      "execution_count": null,
      "outputs": [
        {
          "output_type": "execute_result",
          "data": {
            "text/plain": [
              "'HELLO'"
            ],
            "application/vnd.google.colaboratory.intrinsic+json": {
              "type": "string"
            }
          },
          "metadata": {},
          "execution_count": 39
        }
      ]
    },
    {
      "cell_type": "code",
      "source": [
        "my_string [::2] #if i put double : like ::2 it will pick one and ignore the 2nd and pick the next"
      ],
      "metadata": {
        "id": "P_Ykze6Ivvvx",
        "outputId": "b5a0a668-4ec9-4807-a76a-d62a3c6d51a3",
        "colab": {
          "base_uri": "https://localhost:8080/",
          "height": 37
        }
      },
      "execution_count": null,
      "outputs": [
        {
          "output_type": "execute_result",
          "data": {
            "text/plain": [
              "'HLO'"
            ],
            "application/vnd.google.colaboratory.intrinsic+json": {
              "type": "string"
            }
          },
          "metadata": {},
          "execution_count": 40
        }
      ]
    },
    {
      "cell_type": "code",
      "source": [
        "my_string [:] #use just : to return everything or as bellow ::1 or if you dont use any brackets also return anything\n",
        "my_string [::1] #or if you want to retunr the full value but in reverse use -1 like\n",
        "my_string [::-2]\n",
        "my_string"
      ],
      "metadata": {
        "id": "w03BtK4UwG6E",
        "outputId": "0f8b02eb-6cda-4eb3-ff36-07bcc2677f37",
        "colab": {
          "base_uri": "https://localhost:8080/",
          "height": 37
        }
      },
      "execution_count": null,
      "outputs": [
        {
          "output_type": "execute_result",
          "data": {
            "text/plain": [
              "'HELLO'"
            ],
            "application/vnd.google.colaboratory.intrinsic+json": {
              "type": "string"
            }
          },
          "metadata": {},
          "execution_count": 48
        }
      ]
    },
    {
      "cell_type": "code",
      "source": [
        "my_string2= \"school\"\n",
        "my_string2 [::]"
      ],
      "metadata": {
        "id": "G8FvU_3qwCKP",
        "outputId": "882365a3-db2b-4a25-b3be-6f85a38c0463",
        "colab": {
          "base_uri": "https://localhost:8080/",
          "height": 37
        }
      },
      "execution_count": null,
      "outputs": [
        {
          "output_type": "execute_result",
          "data": {
            "text/plain": [
              "'school'"
            ],
            "application/vnd.google.colaboratory.intrinsic+json": {
              "type": "string"
            }
          },
          "metadata": {},
          "execution_count": 49
        }
      ]
    },
    {
      "cell_type": "code",
      "source": [
        "my_string2 [::-1] # use ::-1 to get the reverse of the word or use ::- with any number to get start with the right index\n"
      ],
      "metadata": {
        "id": "UqpAPmdixIVY",
        "outputId": "90ae76c1-d681-4482-d678-e03cd2ab9227",
        "colab": {
          "base_uri": "https://localhost:8080/",
          "height": 37
        }
      },
      "execution_count": null,
      "outputs": [
        {
          "output_type": "execute_result",
          "data": {
            "text/plain": [
              "'loohcs'"
            ],
            "application/vnd.google.colaboratory.intrinsic+json": {
              "type": "string"
            }
          },
          "metadata": {},
          "execution_count": 50
        }
      ]
    },
    {
      "cell_type": "code",
      "source": [
        "joke = \"funnymonkeys\"\n",
        "print (joke)"
      ],
      "metadata": {
        "id": "bcblsLOgx-CT",
        "outputId": "d8373639-f8ec-4c0c-b889-92f0afa6c14b",
        "colab": {
          "base_uri": "https://localhost:8080/"
        }
      },
      "execution_count": null,
      "outputs": [
        {
          "output_type": "stream",
          "name": "stdout",
          "text": [
            "funnymonkeys\n"
          ]
        }
      ]
    },
    {
      "cell_type": "code",
      "source": [
        "joke [::-2]"
      ],
      "metadata": {
        "id": "FVVkvBffyGuL",
        "outputId": "2b1f8c79-263a-4ff0-dc2a-a5c5167240fb",
        "colab": {
          "base_uri": "https://localhost:8080/",
          "height": 37
        }
      },
      "execution_count": null,
      "outputs": [
        {
          "output_type": "execute_result",
          "data": {
            "text/plain": [
              "'senmnu'"
            ],
            "application/vnd.google.colaboratory.intrinsic+json": {
              "type": "string"
            }
          },
          "metadata": {},
          "execution_count": 54
        }
      ]
    },
    {
      "cell_type": "code",
      "source": [
        "joke[2:6]"
      ],
      "metadata": {
        "id": "_LvhFbVTyMxe",
        "outputId": "ad9ba018-1a79-4a9d-e4cc-660cbaf1ea93",
        "colab": {
          "base_uri": "https://localhost:8080/",
          "height": 37
        }
      },
      "execution_count": null,
      "outputs": [
        {
          "output_type": "execute_result",
          "data": {
            "text/plain": [
              "'nnym'"
            ],
            "application/vnd.google.colaboratory.intrinsic+json": {
              "type": "string"
            }
          },
          "metadata": {},
          "execution_count": 56
        }
      ]
    },
    {
      "cell_type": "code",
      "source": [
        "str1 = \"I enjoy python\"\n",
        "str2 = \"\\tclass\"\n",
        "print(str1+str2)"
      ],
      "metadata": {
        "id": "DCCX4SDX0VTC",
        "outputId": "c0f522e4-0917-4ff2-b3ca-dd82f56cb18a",
        "colab": {
          "base_uri": "https://localhost:8080/"
        }
      },
      "execution_count": null,
      "outputs": [
        {
          "output_type": "stream",
          "name": "stdout",
          "text": [
            "I enjoy python\tclass\n"
          ]
        }
      ]
    },
    {
      "cell_type": "code",
      "source": [
        "str3=\"write this 5 times\\n\"# use * to multiply. Here we also use \\n to have them in seperate lines as follows\n",
        "print (str3*5)\n"
      ],
      "metadata": {
        "id": "Uc_jiQgi1WNZ",
        "outputId": "baa11967-ecf7-42c5-89fd-88e814b037bb",
        "colab": {
          "base_uri": "https://localhost:8080/"
        }
      },
      "execution_count": null,
      "outputs": [
        {
          "output_type": "stream",
          "name": "stdout",
          "text": [
            "write this 5 times\n",
            "write this 5 times\n",
            "write this 5 times\n",
            "write this 5 times\n",
            "write this 5 times\n",
            "\n"
          ]
        }
      ]
    },
    {
      "cell_type": "code",
      "source": [
        "\"10\" + \"6\""
      ],
      "metadata": {
        "id": "QtkcZRpJ13Vb",
        "outputId": "585fa6e2-676a-4806-bf92-7ab0f93a3d73",
        "colab": {
          "base_uri": "https://localhost:8080/",
          "height": 37
        }
      },
      "execution_count": null,
      "outputs": [
        {
          "output_type": "execute_result",
          "data": {
            "text/plain": [
              "'106'"
            ],
            "application/vnd.google.colaboratory.intrinsic+json": {
              "type": "string"
            }
          },
          "metadata": {},
          "execution_count": 73
        }
      ]
    },
    {
      "cell_type": "code",
      "source": [
        "10+6"
      ],
      "metadata": {
        "id": "QhVHBhyt17lg",
        "outputId": "ac9c6af0-b03d-4bad-8c50-d1fd8a55c6ff",
        "colab": {
          "base_uri": "https://localhost:8080/"
        }
      },
      "execution_count": null,
      "outputs": [
        {
          "output_type": "execute_result",
          "data": {
            "text/plain": [
              "16"
            ]
          },
          "metadata": {},
          "execution_count": 74
        }
      ]
    },
    {
      "cell_type": "code",
      "source": [
        "str4 = \"123\"\n",
        "print (id(str4))"
      ],
      "metadata": {
        "id": "oq1Yt3ws19uL",
        "outputId": "31e88ed9-af75-4b78-8854-f228143309a3",
        "colab": {
          "base_uri": "https://localhost:8080/"
        }
      },
      "execution_count": null,
      "outputs": [
        {
          "output_type": "stream",
          "name": "stdout",
          "text": [
            "140513429000368\n"
          ]
        }
      ]
    },
    {
      "cell_type": "code",
      "source": [
        "str4= \"345\"\n",
        "print (id(str4))"
      ],
      "metadata": {
        "id": "vPDiWiIK2-cb",
        "outputId": "23acbeb4-7b4d-4b49-ea88-84dc14726abb",
        "colab": {
          "base_uri": "https://localhost:8080/"
        }
      },
      "execution_count": null,
      "outputs": [
        {
          "output_type": "stream",
          "name": "stdout",
          "text": [
            "140513216022640\n"
          ]
        }
      ]
    },
    {
      "cell_type": "code",
      "source": [
        "print (id(my_string))"
      ],
      "metadata": {
        "id": "a7QKjpi43cH9",
        "outputId": "1e25331d-60bb-45fb-cf35-b50f1757a02b",
        "colab": {
          "base_uri": "https://localhost:8080/"
        }
      },
      "execution_count": null,
      "outputs": [
        {
          "output_type": "stream",
          "name": "stdout",
          "text": [
            "140513216020272\n"
          ]
        }
      ]
    },
    {
      "cell_type": "code",
      "source": [
        "mystring = \" THIS IS UPPERCASE\"\n",
        "mystring.casefold ()"
      ],
      "metadata": {
        "id": "BZp4DF2U4vzY",
        "outputId": "177ed7a8-03d1-4cda-f03f-c0b099696234",
        "colab": {
          "base_uri": "https://localhost:8080/",
          "height": 37
        }
      },
      "execution_count": null,
      "outputs": [
        {
          "output_type": "execute_result",
          "data": {
            "text/plain": [
              "' this is uppercase'"
            ],
            "application/vnd.google.colaboratory.intrinsic+json": {
              "type": "string"
            }
          },
          "metadata": {},
          "execution_count": 79
        }
      ]
    },
    {
      "cell_type": "code",
      "source": [
        "mystring2=\"this is uppercase\"\n",
        "mystring.upper ()\n"
      ],
      "metadata": {
        "id": "h87hLLvB5GyY",
        "outputId": "c40dd04d-c13f-464f-f66b-36b87c1db171",
        "colab": {
          "base_uri": "https://localhost:8080/",
          "height": 37
        }
      },
      "execution_count": null,
      "outputs": [
        {
          "output_type": "execute_result",
          "data": {
            "text/plain": [
              "' THIS IS UPPERCASE'"
            ],
            "application/vnd.google.colaboratory.intrinsic+json": {
              "type": "string"
            }
          },
          "metadata": {},
          "execution_count": 80
        }
      ]
    },
    {
      "cell_type": "code",
      "source": [
        "mystring2.count(\"i\")"
      ],
      "metadata": {
        "id": "zOZ4fv5H5P_b",
        "outputId": "04b7bde4-0de4-4ff8-bc18-3198389a9779",
        "colab": {
          "base_uri": "https://localhost:8080/"
        }
      },
      "execution_count": null,
      "outputs": [
        {
          "output_type": "execute_result",
          "data": {
            "text/plain": [
              "2"
            ]
          },
          "metadata": {},
          "execution_count": 82
        }
      ]
    },
    {
      "cell_type": "code",
      "source": [
        "mystring.count (\"T\") #so count finds the number of value we are looking for"
      ],
      "metadata": {
        "id": "7F3I5JXF5pCM",
        "outputId": "ec1ff587-f111-4e08-a215-81e96c3ece64",
        "colab": {
          "base_uri": "https://localhost:8080/"
        }
      },
      "execution_count": null,
      "outputs": [
        {
          "output_type": "execute_result",
          "data": {
            "text/plain": [
              "1"
            ]
          },
          "metadata": {},
          "execution_count": 83
        }
      ]
    },
    {
      "cell_type": "code",
      "source": [
        "mystring.find (\"I\") #use .find to find paticular index"
      ],
      "metadata": {
        "id": "ts38WdhP52pn",
        "outputId": "176518e9-dfb6-4087-b807-03abda043887",
        "colab": {
          "base_uri": "https://localhost:8080/"
        }
      },
      "execution_count": null,
      "outputs": [
        {
          "output_type": "execute_result",
          "data": {
            "text/plain": [
              "3"
            ]
          },
          "metadata": {},
          "execution_count": 85
        }
      ]
    },
    {
      "cell_type": "code",
      "source": [
        "mystring.replace(\"I\", \"E\") # to replace just seperate with commar "
      ],
      "metadata": {
        "id": "2rxoiwpS6LAL",
        "outputId": "8481103c-72b9-4383-8fab-fe82607a6959",
        "colab": {
          "base_uri": "https://localhost:8080/",
          "height": 37
        }
      },
      "execution_count": null,
      "outputs": [
        {
          "output_type": "execute_result",
          "data": {
            "text/plain": [
              "' THES ES UPPERCASE'"
            ],
            "application/vnd.google.colaboratory.intrinsic+json": {
              "type": "string"
            }
          },
          "metadata": {},
          "execution_count": 86
        }
      ]
    },
    {
      "cell_type": "code",
      "source": [
        "mystring2.split () #to split the values use .split"
      ],
      "metadata": {
        "id": "tWyj70Nx6ZHE",
        "outputId": "b9011fe0-4dbe-4169-d76c-b9467b8c6461",
        "colab": {
          "base_uri": "https://localhost:8080/"
        }
      },
      "execution_count": null,
      "outputs": [
        {
          "output_type": "execute_result",
          "data": {
            "text/plain": [
              "['this', 'is', 'uppercase']"
            ]
          },
          "metadata": {},
          "execution_count": 87
        }
      ]
    },
    {
      "cell_type": "code",
      "source": [
        "mystring2.split (\"e\")"
      ],
      "metadata": {
        "id": "5xdSftXg7IbW",
        "outputId": "c49c79df-4c51-450e-8669-d30f204f1275",
        "colab": {
          "base_uri": "https://localhost:8080/"
        }
      },
      "execution_count": null,
      "outputs": [
        {
          "output_type": "execute_result",
          "data": {
            "text/plain": [
              "['this is upp', 'rcas', '']"
            ]
          },
          "metadata": {},
          "execution_count": 88
        }
      ]
    },
    {
      "cell_type": "code",
      "source": [
        "\"May hair will grow by {} cm next year\".format (5)"
      ],
      "metadata": {
        "id": "BWllP0Uj7mH1",
        "outputId": "0d6841a6-1c20-4946-a2ee-930440f003b1",
        "colab": {
          "base_uri": "https://localhost:8080/",
          "height": 37
        }
      },
      "execution_count": null,
      "outputs": [
        {
          "output_type": "execute_result",
          "data": {
            "text/plain": [
              "'May hair will grow by 5 cm next year'"
            ],
            "application/vnd.google.colaboratory.intrinsic+json": {
              "type": "string"
            }
          },
          "metadata": {},
          "execution_count": 92
        }
      ]
    },
    {
      "cell_type": "code",
      "source": [
        "mystring4= \"My salary will be {} by next {}\"\n",
        "salary = 5000\n",
        "period = \"April\" #because it is text use \"\"\n",
        "print (mystring4.format(salary,period))\n"
      ],
      "metadata": {
        "id": "5MIkc30V8el7",
        "outputId": "3bf98917-1d52-43f2-e81b-0bb8cebb96e1",
        "colab": {
          "base_uri": "https://localhost:8080/"
        }
      },
      "execution_count": null,
      "outputs": [
        {
          "output_type": "stream",
          "name": "stdout",
          "text": [
            "My salary will be 5000 by next April\n"
          ]
        }
      ]
    },
    {
      "cell_type": "code",
      "source": [
        "name = \"my dream will come true in {} and I will get {}\"\n",
        "year = 2023\n",
        "condition = \"richer\"\n",
        "print (name.format (year,condition))"
      ],
      "metadata": {
        "id": "uOpoAeUY9LiU",
        "outputId": "c679a42a-a9b9-492a-a3bd-bdc502b1bdf5",
        "colab": {
          "base_uri": "https://localhost:8080/"
        }
      },
      "execution_count": null,
      "outputs": [
        {
          "output_type": "stream",
          "name": "stdout",
          "text": [
            "my dream will come true in 2023 and I will get richer\n"
          ]
        }
      ]
    },
    {
      "cell_type": "code",
      "source": [
        "mystring5= \"I bought {0} kg of {1} that cost me {2} pounds\"\n",
        "product = \"apples\"\n",
        "weight = 10\n",
        "cost = 25\n",
        "\n",
        "print(mystring5.format(weight, product, cost))\n"
      ],
      "metadata": {
        "id": "vzUEJvct9upz",
        "outputId": "85ca7039-6bf0-4641-c0de-f059b06d9a47",
        "colab": {
          "base_uri": "https://localhost:8080/"
        }
      },
      "execution_count": null,
      "outputs": [
        {
          "output_type": "stream",
          "name": "stdout",
          "text": [
            "I bought 10 kg of apples that cost me 25 pounds\n"
          ]
        }
      ]
    },
    {
      "cell_type": "code",
      "source": [
        "mystring6 = \"I bought {a} kg of {b} which cost me {c}\"\n",
        "weight = 10\n",
        "product= \"apples\"\n",
        "price= 30\n",
        "print(mystring6.format(a=weight, b=product, c=price))"
      ],
      "metadata": {
        "id": "QWINaylM_p77",
        "outputId": "3380c79d-efda-4774-b4dd-b8c8a76df6ef",
        "colab": {
          "base_uri": "https://localhost:8080/"
        }
      },
      "execution_count": null,
      "outputs": [
        {
          "output_type": "stream",
          "name": "stdout",
          "text": [
            "I bought 10 kg of apples which cost me 30\n"
          ]
        }
      ]
    },
    {
      "cell_type": "code",
      "source": [
        "name = \"I will buy {a} {b} tomorrow by {c} tomorrow\"\n",
        "aa= 2\n",
        "bb= \"bags\"\n",
        "cc= 7\n",
        "print (name.format (a=aa, b=bb, c=cc))"
      ],
      "metadata": {
        "id": "UnVNXwnQBVGo",
        "outputId": "68ac6631-d01f-4cb7-bb5e-f236ebf5afc5",
        "colab": {
          "base_uri": "https://localhost:8080/"
        }
      },
      "execution_count": null,
      "outputs": [
        {
          "output_type": "stream",
          "name": "stdout",
          "text": [
            "I will buy 2 bags tomorrow by 7 tomorrow\n"
          ]
        }
      ]
    },
    {
      "cell_type": "code",
      "source": [
        "var1= 10/7\n",
        "\n",
        "round(var1,5)"
      ],
      "metadata": {
        "id": "reixAf_pCzxB",
        "outputId": "f16be677-9893-423b-f13d-cb1e5cad945c",
        "colab": {
          "base_uri": "https://localhost:8080/"
        }
      },
      "execution_count": null,
      "outputs": [
        {
          "output_type": "execute_result",
          "data": {
            "text/plain": [
              "1.42857"
            ]
          },
          "metadata": {},
          "execution_count": 121
        }
      ]
    },
    {
      "cell_type": "code",
      "source": [
        "print(\"value is {var1:1.5f}\".format (var1=10/7)) # :1.6f mean how many decimales to have after . "
      ],
      "metadata": {
        "id": "1Dc6wSzaDQOB",
        "outputId": "09850320-aee9-4b06-a033-6801d2394c2e",
        "colab": {
          "base_uri": "https://localhost:8080/"
        }
      },
      "execution_count": null,
      "outputs": [
        {
          "output_type": "stream",
          "name": "stdout",
          "text": [
            "value is 1.42857\n"
          ]
        }
      ]
    },
    {
      "cell_type": "code",
      "source": [
        "print (\"I am roaming %s and %s\" %(\"here\", \"there\"))"
      ],
      "metadata": {
        "id": "_s9dSkwOEC9D",
        "outputId": "c0ca4607-e93e-4c4a-c7c6-2a9e00cf7315",
        "colab": {
          "base_uri": "https://localhost:8080/"
        }
      },
      "execution_count": null,
      "outputs": [
        {
          "output_type": "stream",
          "name": "stdout",
          "text": [
            "I am roaming here and there\n"
          ]
        }
      ]
    },
    {
      "cell_type": "code",
      "source": [
        "print (\"I am roaming %s and \")"
      ],
      "metadata": {
        "id": "7eRP0CCcEn4D"
      },
      "execution_count": null,
      "outputs": []
    },
    {
      "cell_type": "code",
      "source": [
        "#operators\n",
        "\n",
        "\n",
        "4%3\n",
        "\n",
        "10%3 # whatever is left after all devision like if we put 10%2 the result is 0 beacuse 10/2=\n"
      ],
      "metadata": {
        "id": "ukG29Wj2FYTH",
        "outputId": "792940ce-f41d-4232-a167-3268454606cb",
        "colab": {
          "base_uri": "https://localhost:8080/"
        }
      },
      "execution_count": null,
      "outputs": [
        {
          "output_type": "execute_result",
          "data": {
            "text/plain": [
              "1"
            ]
          },
          "metadata": {},
          "execution_count": 131
        }
      ]
    },
    {
      "cell_type": "code",
      "source": [
        "(5+3*6.666/12)**2"
      ],
      "metadata": {
        "id": "UvD9txUcGF3i",
        "outputId": "cafe63c5-8408-4863-d2ee-3ce61ec82488",
        "colab": {
          "base_uri": "https://localhost:8080/"
        }
      },
      "execution_count": null,
      "outputs": [
        {
          "output_type": "execute_result",
          "data": {
            "text/plain": [
              "44.44222225"
            ]
          },
          "metadata": {},
          "execution_count": 132
        }
      ]
    },
    {
      "cell_type": "code",
      "source": [
        "# >- greater than, <- less than\n",
        "\n",
        "5>9\n",
        "10<=10"
      ],
      "metadata": {
        "id": "tWUg9Td3DJlW",
        "outputId": "6304ba0c-68ad-4828-ab00-06e7eefa88b9",
        "colab": {
          "base_uri": "https://localhost:8080/"
        }
      },
      "execution_count": null,
      "outputs": [
        {
          "output_type": "execute_result",
          "data": {
            "text/plain": [
              "True"
            ]
          },
          "metadata": {},
          "execution_count": 134
        }
      ]
    },
    {
      "cell_type": "code",
      "source": [
        "r= 5.2\n",
        "pi= 3.14\n",
        "circum = 2*pi*r\n"
      ],
      "metadata": {
        "id": "QlZXQdSgGxO5"
      },
      "execution_count": null,
      "outputs": []
    },
    {
      "cell_type": "code",
      "source": [
        "a=5\n",
        "a>3 and a<4\n"
      ],
      "metadata": {
        "id": "1pu_X_NQHQXa",
        "outputId": "2e38bb86-c239-4aab-92b4-9b6be7209761",
        "colab": {
          "base_uri": "https://localhost:8080/"
        }
      },
      "execution_count": null,
      "outputs": [
        {
          "output_type": "execute_result",
          "data": {
            "text/plain": [
              "False"
            ]
          },
          "metadata": {},
          "execution_count": 139
        }
      ]
    },
    {
      "cell_type": "code",
      "source": [
        "not (3<5)"
      ],
      "metadata": {
        "id": "wXu9FKxWHp1k",
        "outputId": "27aeac69-b204-4c9b-88c9-ba363b2b690b",
        "colab": {
          "base_uri": "https://localhost:8080/"
        }
      },
      "execution_count": null,
      "outputs": [
        {
          "output_type": "execute_result",
          "data": {
            "text/plain": [
              "False"
            ]
          },
          "metadata": {},
          "execution_count": 140
        }
      ]
    },
    {
      "cell_type": "code",
      "source": [
        "not (3>5)"
      ],
      "metadata": {
        "id": "6VrZkSoaHsFR",
        "outputId": "4426c1e6-d6b1-46f7-8ed4-a08e295a028a",
        "colab": {
          "base_uri": "https://localhost:8080/"
        }
      },
      "execution_count": null,
      "outputs": [
        {
          "output_type": "execute_result",
          "data": {
            "text/plain": [
              "True"
            ]
          },
          "metadata": {},
          "execution_count": 141
        }
      ]
    },
    {
      "cell_type": "code",
      "source": [
        "x= 5.5\n",
        "type (x)"
      ],
      "metadata": {
        "id": "zF3Yd-WKIerW",
        "outputId": "f8afe98b-4938-4221-d475-2e3a4c08b0d5",
        "colab": {
          "base_uri": "https://localhost:8080/"
        }
      },
      "execution_count": null,
      "outputs": [
        {
          "output_type": "execute_result",
          "data": {
            "text/plain": [
              "float"
            ]
          },
          "metadata": {},
          "execution_count": 142
        }
      ]
    },
    {
      "cell_type": "code",
      "source": [
        "int (x)"
      ],
      "metadata": {
        "id": "nstA-EkiIigH",
        "outputId": "dd0c6a04-f5d3-4264-a4d8-4870c948efaf",
        "colab": {
          "base_uri": "https://localhost:8080/"
        }
      },
      "execution_count": null,
      "outputs": [
        {
          "output_type": "execute_result",
          "data": {
            "text/plain": [
              "5"
            ]
          },
          "metadata": {},
          "execution_count": 143
        }
      ]
    },
    {
      "cell_type": "code",
      "source": [],
      "metadata": {
        "id": "Kjw0h_79HxiU"
      },
      "execution_count": null,
      "outputs": []
    },
    {
      "cell_type": "code",
      "source": [
        "#you cant have any valuable starting with number, you cant have spaces but use underscore instead, dont use ighpen too. Those are the rules for the valuables. "
      ],
      "metadata": {
        "id": "WLmcGKHxHyw_"
      },
      "execution_count": null,
      "outputs": []
    },
    {
      "cell_type": "code",
      "source": [
        "h= 6\n",
        "l=3\n",
        "w= 6\n",
        "print (h*l*w)\n",
        "print (\"The are of the box i just bought is \")"
      ],
      "metadata": {
        "colab": {
          "base_uri": "https://localhost:8080/"
        },
        "id": "YsWi1LsuJxt3",
        "outputId": "86485d12-2e97-41f0-ae4f-03eb2ae2b3a1"
      },
      "execution_count": null,
      "outputs": [
        {
          "output_type": "stream",
          "name": "stdout",
          "text": [
            "108\n"
          ]
        }
      ]
    }
  ],
  "metadata": {
    "colab": {
      "collapsed_sections": [],
      "toc_visible": true,
      "provenance": [],
      "include_colab_link": true
    },
    "kernelspec": {
      "display_name": "Python 3",
      "name": "python3"
    }
  },
  "nbformat": 4,
  "nbformat_minor": 0
}